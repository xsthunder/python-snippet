{
 "cells": [
  {
   "cell_type": "markdown",
   "metadata": {
    "ExecuteTime": {
     "end_time": "2020-07-27T12:40:10.055590Z",
     "start_time": "2020-07-27T12:40:09.761520Z"
    }
   },
   "source": [
    "# search-cn-tg-message\n",
    "\n",
    "a useful tool to search cn chat history in tg\n",
    "\n",
    "## create env\n",
    "\n",
    "```\n",
    "conda create -n bs4 python=3.8 beautifulsoup4\n",
    "python -m ipykernel install --user --name bs4 --display-name \"Python (bs4)\"\n",
    "```\n",
    "\n",
    "## begining\n",
    "\n",
    "### download tg message \n",
    "\n",
    "export chat history, uncheck all multimedia\n",
    "\n",
    "### put this file into the download dir\n",
    "\n",
    "### set up config\n",
    "\n",
    "### update back_list using out.txt\n",
    "\n",
    "1. find frequent word in [图悦-在线词频分析工具-词云图制作软件](http://www.picdata.cn/picdata/), download xls\n",
    "2. copy-paste unwanted topic word in back_list from xls\n",
    "3. repeat 1,2 until the most freq is low(like < 4)\n",
    "\n",
    "## output\n",
    "\n",
    "export plain text to out.txt\n",
    "\n"
   ]
  },
  {
   "cell_type": "code",
   "execution_count": null,
   "metadata": {},
   "outputs": [],
   "source": [
    "# config\n",
    "USER_TO_FIND = \"SomeHandleName\""
   ]
  },
  {
   "cell_type": "code",
   "execution_count": 79,
   "metadata": {
    "ExecuteTime": {
     "end_time": "2020-07-27T12:55:20.947077Z",
     "start_time": "2020-07-27T12:55:20.463281Z"
    }
   },
   "outputs": [],
   "source": [
    "from bs4 import BeautifulSoup"
   ]
  },
  {
   "cell_type": "code",
   "execution_count": 165,
   "metadata": {
    "ExecuteTime": {
     "end_time": "2020-07-27T13:32:14.883245Z",
     "start_time": "2020-07-27T13:32:14.865255Z"
    }
   },
   "outputs": [],
   "source": [
    "def test_user_to_find(msg):\n",
    "    \n",
    "    # message find by user\n",
    "    \n",
    "    txt = msg.find(\"div\", class_=\"from_name\")\n",
    "    if not hasattr(txt, \"text\"): return False\n",
    "    return USER_TO_FIND in txt.text.strip()\n",
    "\n",
    "def parse2json(msg):\n",
    "    \n",
    "    # parse xml_structure to handy json\n",
    "    \n",
    "    txt = msg.find(\"div\", class_=\"text\")\n",
    "    if not hasattr(txt, \"text\"): txt = \"\"\n",
    "    else :\n",
    "        txt = txt.text.strip()\n",
    "        \n",
    "    return {\n",
    "        \"date\":msg.find(\"div\", class_=\"date\")[\"title\"],\n",
    "        \"text\":txt\n",
    "    }\n",
    "    \n",
    "def get_list_by_file(filename):\n",
    "    \n",
    "    # iterate through file, \n",
    "    # apply the two filter func above\n",
    "    # convert structure, xml to json\n",
    "    \n",
    "    bs = BeautifulSoup(open(filename, encoding=\"UTF-8\"))\n",
    "    \n",
    "    # filter files by date\n",
    "#     time = bs.find(\"div\", class_=\"body\")\n",
    "#     time = time.text.strip()\n",
    "#     [day, mon, ] = time.split()[:2]\n",
    "#     if not ( int(day) >= 23 and mon == \"July\" ):\n",
    "#         return []\n",
    "    \n",
    "    body_l = bs.find_all(\"div\", class_=\"body\")\n",
    "    body_l = list(filter(lambda msg:msg[\"class\"].__len__()==1, body_l))\n",
    "    body_l = list(filter(test_user_to_find, body_l))\n",
    "    body_l = list(map(parse2json, body_l))\n",
    "    return body_l \n"
   ]
  },
  {
   "cell_type": "code",
   "execution_count": 166,
   "metadata": {
    "ExecuteTime": {
     "end_time": "2020-07-27T13:32:29.942644Z",
     "start_time": "2020-07-27T13:32:15.736220Z"
    }
   },
   "outputs": [],
   "source": [
    "# get input html file names\n",
    "\n",
    "import os\n",
    "filenames = os.listdir('./')\n",
    "filenames = list(filter( lambda name: \".html\" in name, filenames ,))\n",
    "obj_list = []\n",
    "for name in filenames:\n",
    "    obj_list.extend(get_list_by_file(name))\n",
    "    "
   ]
  },
  {
   "cell_type": "code",
   "execution_count": 1,
   "metadata": {
    "ExecuteTime": {
     "end_time": "2020-07-27T16:16:57.681825Z",
     "start_time": "2020-07-27T16:16:57.661835Z"
    }
   },
   "outputs": [
    {
     "data": {
      "text/plain": [
       "['额度',\n",
       " '苹果',\n",
       " '域名',\n",
       " '证书',\n",
       " '服务器',\n",
       " '源站',\n",
       " 'win7',\n",
       " 'cdn',\n",
       " '机器人',\n",
       " 'cloudflare',\n",
       " '激活',\n",
       " '老外',\n",
       " '显卡',\n",
       " 'cpu',\n",
       " '折腾',\n",
       " '移动网络',\n",
       " 'hexo',\n",
       " '老王',\n",
       " '恶心',\n",
       " 'telegram',\n",
       " '静态']"
      ]
     },
     "execution_count": 1,
     "metadata": {},
     "output_type": "execute_result"
    }
   ],
   "source": [
    "black_list = \"\"\"\n",
    "额度\n",
    "苹果\n",
    "域名\n",
    "证书\n",
    "服务器\n",
    "源站\n",
    "win7\n",
    "cdn\n",
    "机器人\n",
    "cloudflare\n",
    "激活\n",
    "老外\n",
    "显卡\n",
    "cpu\n",
    "折腾\n",
    "移动网络\n",
    "hexo\n",
    "老王\n",
    "恶心\n",
    "telegram\n",
    "静态\n",
    "\"\"\"\n",
    "black_list = black_list.split()\n",
    "black_list "
   ]
  },
  {
   "cell_type": "code",
   "execution_count": 185,
   "metadata": {
    "ExecuteTime": {
     "end_time": "2020-07-27T13:43:12.617942Z",
     "start_time": "2020-07-27T13:43:12.600935Z"
    }
   },
   "outputs": [],
   "source": [
    "# output to file\n",
    "# filter text by min_len 2\n",
    "# filter text by back_list\n",
    "\n",
    "from functools import partial\n",
    "\n",
    "txt_list =  obj_list\n",
    "txt_list = list(filter(lambda x:len(x[\"text\"])>=2, txt_list))\n",
    "\n",
    "for black_word in black_list:\n",
    "    txt_list = list(filter(lambda x:black_word not in (x[\"text\"]), txt_list))\n",
    "\n",
    "fp = open(\"out.txt\", \"w\", encoding=\"UTF-8\")\n",
    "\n",
    "p = partial(print, file=fp)\n",
    "for index, txt in enumerate(txt_list ):\n",
    "    p( txt[\"text\"],txt[\"date\"], index,)\n",
    "    \n",
    "fp.close()"
   ]
  }
 ],
 "metadata": {
  "kernelspec": {
   "display_name": "Python 3",
   "language": "python",
   "name": "python3"
  },
  "language_info": {
   "codemirror_mode": {
    "name": "ipython",
    "version": 3
   },
   "file_extension": ".py",
   "mimetype": "text/x-python",
   "name": "python",
   "nbconvert_exporter": "python",
   "pygments_lexer": "ipython3",
   "version": "3.7.4"
  }
 },
 "nbformat": 4,
 "nbformat_minor": 2
}
