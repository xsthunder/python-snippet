{
 "cells": [
  {
   "cell_type": "code",
   "execution_count": 7,
   "metadata": {
    "ExecuteTime": {
     "end_time": "2019-11-08T08:05:27.253577Z",
     "start_time": "2019-11-08T08:05:27.237272Z"
    }
   },
   "outputs": [
    {
     "data": {
      "text/plain": [
       "'0xffb2194d004df6fb'"
      ]
     },
     "execution_count": 7,
     "metadata": {},
     "output_type": "execute_result"
    }
   ],
   "source": [
    "# IP in DES\n",
    "\n",
    "# see https://medium.com/@urwithajit9/how-to-teach-des-using-python-the-easy-way-part-3-des-encryption-4394a935effc\n",
    "def hexTobinary(hexdigits):\n",
    "\tbinarydigits = \"\"\n",
    "\tfor hexdigit in hexdigits:\n",
    "\t\tbinarydigits += bin(int(hexdigit,16))[2:].zfill(4)\n",
    "\treturn binarydigits\n",
    "\n",
    "\n",
    "\n",
    "INITIAL_PERMUTATION_TABLE = ['58 ', '50 ', '42 ', '34 ', '26 ', '18 ', '10 ', '2',\n",
    "\t\t\t '60 ', '52 ', '44 ', '36 ', '28 ', '20 ', '12 ', '4',\n",
    "\t\t\t '62 ', '54 ', '46 ', '38 ', '30 ', '22 ', '14 ', '6', \n",
    "\t\t\t'64 ', '56 ', '48 ', '40 ', '32 ', '24 ', '16 ', '8', \n",
    "\t\t\t'57 ', '49 ', '41 ', '33 ', '25 ', '17 ', '9 ', '1',\n",
    "\t\t\t '59 ', '51 ', '43 ', '35 ', '27 ', '19 ', '11 ', '3',\n",
    "\t\t\t '61 ', '53 ', '45 ', '37 ', '29 ', '21 ', '13 ', '5',\n",
    "\t\t\t '63 ', '55 ', '47 ', '39 ', '31 ', '23 ', '15 ', '7']\n",
    "\n",
    "def apply_initial_p(P_TABLE, PLAINTEXT):\n",
    "\tpermutated_M = \"\"\n",
    "\tfor index in P_TABLE:\n",
    "\t\tpermutated_M += PLAINTEXT[int(index)-1]\n",
    "\treturn permutated_M\n",
    "\n",
    "M = '0123456789ABCDEF'\n",
    "M = '675a69675e5a6b5a'.upper()\n",
    "plaintext = hexTobinary(M)\n",
    "C = apply_initial_p(INITIAL_PERMUTATION_TABLE,plaintext)\n",
    "C = int(C, 2)\n",
    "hex(C)"
   ]
  },
  {
   "cell_type": "code",
   "execution_count": null,
   "metadata": {},
   "outputs": [],
   "source": []
  }
 ],
 "metadata": {
  "kernelspec": {
   "display_name": "Python (data-mining)",
   "language": "python",
   "name": "data-mining"
  },
  "language_info": {
   "codemirror_mode": {
    "name": "ipython",
    "version": 3
   },
   "file_extension": ".py",
   "mimetype": "text/x-python",
   "name": "python",
   "nbconvert_exporter": "python",
   "pygments_lexer": "ipython3",
   "version": "3.6.8"
  }
 },
 "nbformat": 4,
 "nbformat_minor": 2
}
